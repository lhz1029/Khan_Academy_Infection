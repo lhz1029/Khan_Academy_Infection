{
 "cells": [
  {
   "cell_type": "markdown",
   "metadata": {},
   "source": [
    "###Khan Academy Infection"
   ]
  },
  {
   "cell_type": "code",
   "execution_count": 1,
   "metadata": {
    "collapsed": false
   },
   "outputs": [],
   "source": [
    "import networkx as nx\n",
    "import matplotlib.pyplot as plt\n",
    "import matplotlib.patches as mpatches\n",
    "import matplotlib.lines as mlines\n",
    "import numpy as np\n",
    "%matplotlib inline "
   ]
  },
  {
   "cell_type": "markdown",
   "metadata": {},
   "source": [
    "###Part 1: Total Infection\n",
    "\n",
    "Here we assume that students are only connected to their coaches and coaches are only connected to their students. Thus, we model this as a simple, undirected graph. We know that:\n",
    "1. If B coaches C, then C should get the new feature as well. \n",
    "2. Infections are transferred by both the “coaches” and “is coached by” relations.\n",
    "\n",
    "Thus, if someone is infected, so is everyone he/she is connected to in the graph. This is the case recursively until we have all the nodes in an entire connected component infected."
   ]
  },
  {
   "cell_type": "code",
   "execution_count": 28,
   "metadata": {
    "collapsed": true
   },
   "outputs": [],
   "source": [
    "def total_infection(user, network):\n",
    "    #infect the user\n",
    "    network.node[user]['infected'] = True\n",
    "    neighbors = network.neighbors(user)\n",
    "    for neighbor in neighbors:\n",
    "        # only run total_infection() on uninfected neighbors; otherwise, infinite loop\n",
    "        if network.node[neighbor]['infected'] == False:\n",
    "            total_infection(neighbor, network)"
   ]
  },
  {
   "cell_type": "markdown",
   "metadata": {},
   "source": [
    "Now we run a test case, assuming that the only connections are coaching ones. While the coaching relationship could be modeled through a directed graph with arrows pointing from the coach to the student, we model the network at the moment as an undirected graph because it functions as such in the case of the infections."
   ]
  },
  {
   "cell_type": "code",
   "execution_count": 29,
   "metadata": {
    "collapsed": false
   },
   "outputs": [],
   "source": [
    "#Create a directed graph to model the coaching relationships (for use in the visualizations)\n",
    "network=nx.DiGraph()\n",
    "network.add_nodes_from([\"A\",\"B\",\"C\"], infected=False)\n",
    "network.add_nodes_from(['a','b','c','d','e'], infected=False)\n",
    "network.add_edges_from([(\"A\",'b'), ('A','c'), (\"B\",'b'),(\"B\",'c'),(\"C\",'d'),(\"C\",'e')])\n",
    "#create a deep copy of an undirected graph for use in the function total_infection()\n",
    "networka = network.to_undirected()"
   ]
  },
  {
   "cell_type": "code",
   "execution_count": 30,
   "metadata": {
    "collapsed": false
   },
   "outputs": [
    {
     "data": {
      "text/plain": [
       "[('A', {'infected': True}),\n",
       " ('a', {'infected': False}),\n",
       " ('C', {'infected': False}),\n",
       " ('B', {'infected': True}),\n",
       " ('e', {'infected': False}),\n",
       " ('d', {'infected': False}),\n",
       " ('c', {'infected': True}),\n",
       " ('b', {'infected': True})]"
      ]
     },
     "execution_count": 30,
     "metadata": {},
     "output_type": "execute_result"
    }
   ],
   "source": [
    "total_infection(\"A\",networka)\n",
    "#output the results\n",
    "networka.nodes(True)"
   ]
  },
  {
   "cell_type": "markdown",
   "metadata": {},
   "source": [
    "###Part 2: Limited Infection"
   ]
  },
  {
   "cell_type": "markdown",
   "metadata": {},
   "source": [
    "We need to satisfy two criteria to make an effective limited_infection(). First, we want to make sure we have appropriate-sized group(s) to roll out a feature. Second, we want to make sure we are not harming users' experiences and thus want to keep all connected components in tact (i.e. all users in a connected component either have or do not have the infection).\n",
    "\n",
    "We imagine the graph of our users to look like a graph made of several distinct connected components (with the exception of a graph where all the users are connected; however, as specified in the prompt, this is pretty unrealistic). We want to find a connected component or combination of connected components that sum up to a specific value we dictate. The algorithm works as follows:\n",
    "\n",
    "1. We iterate through every connected component and measure each of their sizes (i.e.the number of nodes, or users). If any one component has as many nodes as the number we want to infect, we infect all the nodes in that component.\n",
    "2. If none of the individual components has the exact size, we then look at combinations of components. We do this by sorting the components by size and combining the as such:\n",
    "\n",
    "    [1,2,3] #list of component sizes<br />\n",
    "    We then combine them in the following way:<br />\n",
    "    [[1]]<br />\n",
    "    [[1],[1,2],[2]]<br />\n",
    "    [[1],[1,2],[2],[1,3],[1,2,3],[2,3],[3]]<br />\n",
    "    \n",
    "3. If any combination of components has a sum number of nodes equal to the value we want, we infect the nodes in all those connected components. If we have iterated through all the possible combinations and none of these sums is equal to the value we want, the function does nothing and returns \"Not able to infect exact number of users.\""
   ]
  },
  {
   "cell_type": "code",
   "execution_count": 41,
   "metadata": {
    "collapsed": true
   },
   "outputs": [],
   "source": [
    "#works recursively to find all the nodes in the connected component\n",
    "def find_connected_component(cmpts, user, network):\n",
    "    cmpts.append(user)\n",
    "    neighbors = network.neighbors(user)\n",
    "    for neighbor in neighbors:\n",
    "        if neighbor not in cmpts:\n",
    "            cmpts = find_connected_component(cmpts,neighbor, network)\n",
    "    return cmpts\n",
    "        \n",
    "    \n",
    "#if a combination summing to the infection size is found, return the component sizes \n",
    "#otherwise, return a list of lists (i.e. sub_sums) \n",
    "#with a new list element (i.e. subsequence of connected components) appended\n",
    "def add_to_sub_sums(num, sub_sums, infect_num):\n",
    "    for sub_sum in sub_sums:\n",
    "        #if the combination does sum up to the infection size, return the component sizes\n",
    "        if sum(sub_sum)+num == infect_num:\n",
    "            return [sub_sum.extend([num])]\n",
    "        #else, only add the combination if the sum of the sub_sum list plus num is \n",
    "        #less than our desired infection size\n",
    "        elif sum(sub_sum)+num < infect_num:\n",
    "            sub_sums.append(sub_sum.extend([num]))\n",
    "    return sub_sums\n",
    "\n",
    "#infect a connected component given its size (i.e. number of nodes)\n",
    "def infect_cmpt(network, cmpts_list, num_list, num):\n",
    "    cmpts_to_infect = cmpts_list[num_list.index(num)]\n",
    "    nx.set_node_attributes(network, \"infected\", dict(zip(cmpts_to_infect, np.repeat(True,len(cmpts_to_infect)))))\n",
    "\n",
    "#this function finds all connected components and their sizes\n",
    "#then finds an appropriate combination of connected components to infect \n",
    "#(specifically, the first combination that works)\n",
    "def limited_infection(infect_num, network):\n",
    "    network_length = len(network.nodes())\n",
    "    if infect_num > network_length:\n",
    "        raise ValueError(\"The infection size exceeds the network length.\")\n",
    "    #start with a connected component from a random user\n",
    "    user = np.random.choice(network.nodes())\n",
    "    cmpts = find_connected_component([],user, network)\n",
    "    #this is a list of lists for the connected components\n",
    "    cmpts_list = [cmpts]\n",
    "    num_cmpts = len(cmpts)\n",
    "    #this is a list for the sizes of the connected components\n",
    "    num_list = [num_cmpts]\n",
    "\n",
    "    #if the size of the component is exactly the infection size, infect the component\n",
    "    if num_cmpts == infect_num:\n",
    "        infect_cmpt(network, cmpts_list, num_list, num_cmpts)\n",
    "        return \"Successfully infected component.\"\n",
    "    #this counter keeps track of how many nodes we have already looked at\n",
    "    num_tested = num_cmpts\n",
    "    \n",
    "    \n",
    "    #find all the connected components in the network\n",
    "    while num_tested < network_length:\n",
    "        #flatten the list of lists to a list to iterate\n",
    "        flattened_list = [cmpt for cmpts in cmpts_list for cmpt in cmpts]\n",
    "        #find a random user from another component of the network not already looked at\n",
    "        while user in flattened_list:\n",
    "            user = np.random.choice(network.nodes())\n",
    "        #find the connectd component the user belongs to\n",
    "        cmpts = find_connected_component([],user, network)\n",
    "        num_cmpts = len(cmpts)\n",
    "        #if the size of the component is exactly the infection size, infect the component\n",
    "        if num_cmpts == infect_num:\n",
    "            infect_cmpt(network, cmpts_list, num_list, num_cmpts)\n",
    "            return \"Successfully infected component.\"\n",
    "        #increase the counter keeping track of the nodes accounted for in the iterations\n",
    "        num_tested +=num_cmpts\n",
    "        #append the connected components and their sizes to the list\n",
    "        cmpts_list.append(cmpts)\n",
    "        num_list.append(num_cmpts)\n",
    "    \n",
    "    #choose a combination of connected components that satisfy the constraints\n",
    "    #define an empty list of the cmpts\n",
    "    cmpt_list_to_infect = []\n",
    "    sorted_num_list = sorted(num_list)\n",
    "    #sub_sums will be a list of lists containing the various combinations of components to add together\n",
    "    sub_sums = []\n",
    "    #iterate through each connected component size\n",
    "    for num in sorted_num_list:\n",
    "        #if the size of the component is exactly the infection size, infect the component\n",
    "        if num == infect_num:\n",
    "            infect_cmpt(network, cmpts_list, num_list, num)\n",
    "            return \"Successfully infected component\"\n",
    "        #if the connected component size is greater than the infection size we want, so must every subsequent component\n",
    "        if num > infect_num:\n",
    "            break\n",
    "        #for each component size (here, num), add to sub_sum the lists of every existing combination plus num \n",
    "        if sub_sums:\n",
    "            subsums = add_to_sub_sums(num, sub_sums, infect_num)\n",
    "            #if add_to_sub_sums() returns the exact combination summing to the infection size,\n",
    "            #infect those connected components\n",
    "            if len(sub_sums)==1:\n",
    "                for num in sub_sums[0]:\n",
    "                    infect_cmpt(network, cmpts_list, num_list, num)\n",
    "                return \"Successfully infected components\"\n",
    "        #add num by itself as a combination to sub_sum\n",
    "        sub_sums.append([num])\n",
    "    #if out of the loop, there is no combination summing exactly to the infection sum\n",
    "    return \"Not able to infect exact number of users.\"                                "
   ]
  },
  {
   "cell_type": "markdown",
   "metadata": {},
   "source": [
    "We use a similarly structured graph for our testing this time as well."
   ]
  },
  {
   "cell_type": "code",
   "execution_count": 46,
   "metadata": {
    "collapsed": false
   },
   "outputs": [],
   "source": [
    "network1=nx.DiGraph()\n",
    "network1.add_nodes_from([\"A\",\"B\",\"C\"], infected=False)\n",
    "network1.add_nodes_from(['a','b','c','d','e'], infected=False)\n",
    "network1.add_edges_from([(\"A\",'b'), ('A','c'), (\"B\",'b'),(\"B\",'c'),(\"C\",'d'),(\"C\",'e')])\n",
    "network1a = network1.to_undirected()"
   ]
  },
  {
   "cell_type": "code",
   "execution_count": 47,
   "metadata": {
    "collapsed": false
   },
   "outputs": [
    {
     "data": {
      "text/plain": [
       "'Successfully infected component.'"
      ]
     },
     "execution_count": 47,
     "metadata": {},
     "output_type": "execute_result"
    }
   ],
   "source": [
    "limited_infection(3,network1a)"
   ]
  },
  {
   "cell_type": "code",
   "execution_count": 48,
   "metadata": {
    "collapsed": false
   },
   "outputs": [
    {
     "data": {
      "text/plain": [
       "[('A', {'infected': False}),\n",
       " ('a', {'infected': False}),\n",
       " ('C', {'infected': True}),\n",
       " ('B', {'infected': False}),\n",
       " ('e', {'infected': True}),\n",
       " ('d', {'infected': True}),\n",
       " ('c', {'infected': False}),\n",
       " ('b', {'infected': False})]"
      ]
     },
     "execution_count": 48,
     "metadata": {},
     "output_type": "execute_result"
    }
   ],
   "source": [
    "network1a.nodes(True)"
   ]
  },
  {
   "cell_type": "markdown",
   "metadata": {},
   "source": [
    "###Visualization\n",
    "\n",
    "The following is a visualization of the network after the implementation of full_infection(). This visualization uses the Fruchterman-Reingold force-directed algorithm, where the red nodes denote infected and green nodes unaffected."
   ]
  },
  {
   "cell_type": "code",
   "execution_count": 38,
   "metadata": {
    "collapsed": false
   },
   "outputs": [
    {
     "data": {
      "text/plain": [
       "<matplotlib.legend.Legend at 0x10748c990>"
      ]
     },
     "execution_count": 38,
     "metadata": {},
     "output_type": "execute_result"
    },
    {
     "name": "stderr",
     "output_type": "stream",
     "text": [
      "/Users/lilyzhang/anaconda/lib/python2.7/site-packages/matplotlib/collections.py:590: FutureWarning: elementwise comparison failed; returning scalar instead, but in the future will perform elementwise comparison\n",
      "  if self._edgecolors == str('face'):\n"
     ]
    },
    {
     "data": {
      "image/png": "[encoded data removed]",
      "text/plain": [
       "<matplotlib.figure.Figure at 0x1043eb950>"
      ]
     },
     "metadata": {},
     "output_type": "display_data"
    }
   ],
   "source": [
    "#note: here we use information from both the pre-infection directed graph and the post-infection undirected graph\n",
    "#specifically, we take the node data from networka and the edge data from network\n",
    "\n",
    "#Position nodes using Fruchterman-Reingold force-directed algorithm\n",
    "pos=nx.spring_layout(networka)\n",
    "\n",
    "node_color = []\n",
    "#determine the sequence of colors for the nodes\n",
    "for node in networka.nodes(data=True):\n",
    "    #infected nodes are red\n",
    "    if node[1]['infected']:\n",
    "        node_color.append('r')\n",
    "    #uninfected nodes are green\n",
    "    else:\n",
    "        node_color.append('g')\n",
    "\n",
    "nx.draw_networkx_nodes(networka, pos,node_color=node_color)\n",
    "nx.draw_networkx_edges(network,pos,arrows=True)\n",
    "plt.axis('off')\n",
    "plt.title('Visualization of the test network after total infection')\n",
    "\n",
    "\n",
    "#create a legend\n",
    "infected_lab = mpatches.Patch(color='red', label='infected')\n",
    "unaffected_lab = mpatches.Patch(color='green', label='unaffected')\n",
    "plt.legend(handles=[infected_lab, unaffected_lab], loc=0)\n",
    "#where it began"
   ]
  },
  {
   "cell_type": "markdown",
   "metadata": {},
   "source": [
    "###To do with extra time\n",
    "\n",
    "With extra time, I would love to:\n",
    "\n",
    "1. Improve the algorithm in limited_infection() to be more efficient and also allow leeway from the exact threshold. In the end, the purpose of limited infection for A/B testing is not necessarily to infect an exact number of users, but to get roughly appropriate sizes for the treatment and control groups. \n",
    "2. Oftentimes, we want to test not just one feature, but multiple versions of that specific feature (if, for example, the infection is used to test out multiple versions of a feature). Thus, I would also like to create a new version of limited_infection() that allows for this so that one would be able to conduct multiple comparisons.\n",
    "3. Make the arrows in the visualizations more nice-looking, since they are currently just stubs."
   ]
  }
 ],
 "metadata": {
  "kernelspec": {
   "display_name": "Python 2",
   "language": "python",
   "name": "python2"
  },
  "language_info": {
   "codemirror_mode": {
    "name": "ipython",
    "version": 2
   },
   "file_extension": ".py",
   "mimetype": "text/x-python",
   "name": "python",
   "nbconvert_exporter": "python",
   "pygments_lexer": "ipython2",
   "version": "2.7.10"
  }
 },
 "nbformat": 4,
 "nbformat_minor": 0
}
