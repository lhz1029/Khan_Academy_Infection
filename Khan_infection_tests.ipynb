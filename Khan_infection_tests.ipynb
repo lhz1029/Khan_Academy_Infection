{
 "cells": [
  {
   "cell_type": "code",
   "execution_count": 1,
   "metadata": {
    "collapsed": false
   },
   "outputs": [],
   "source": [
    "from Khan_Academy_Infection import total_infection, limited_infection, visualize_infected_network\n",
    "import networkx as nx\n",
    "import matplotlib.pyplot as plt\n",
    "import matplotlib.patches as mpatches\n",
    "import matplotlib.lines as mlines\n",
    "import numpy as np\n",
    "%matplotlib inline "
   ]
  },
  {
   "cell_type": "markdown",
   "metadata": {},
   "source": [
    "##Testing, total_infection()\n",
    "Now we run a test case, assuming that the only connections are coaching ones. While the coaching relationship could be modeled through a directed graph with arrows pointing from the coach to the student, we model the network at the moment as an undirected graph because it functions as such in the case of the infections.\n",
    "\n",
    "\n"
   ]
  },
  {
   "cell_type": "code",
   "execution_count": 19,
   "metadata": {
    "collapsed": false
   },
   "outputs": [
    {
     "data": {
      "text/plain": [
       "[('A', {'infected': True}),\n",
       " ('a', {'infected': False}),\n",
       " ('C', {'infected': False}),\n",
       " ('B', {'infected': True}),\n",
       " ('e', {'infected': False}),\n",
       " ('d', {'infected': False}),\n",
       " ('c', {'infected': True}),\n",
       " ('b', {'infected': True})]"
      ]
     },
     "execution_count": 19,
     "metadata": {},
     "output_type": "execute_result"
    }
   ],
   "source": [
    "#Testing Part 1\n",
    "#Create a directed graph to model the coaching relationships (for use in the visualizations)\n",
    "network=nx.DiGraph()\n",
    "network.add_nodes_from([\"A\",\"B\",\"C\"], infected=False)\n",
    "network.add_nodes_from(['a','b','c','d','e'], infected=False)\n",
    "network.add_edges_from([(\"A\",'b'), ('A','c'), (\"B\",'b'),(\"B\",'c'),(\"C\",'d'),(\"C\",'e')])\n",
    "#create a deep copy of an undirected graph for use in the function total_infection()\n",
    "networka = network.to_undirected()\n",
    "total_infection(\"A\",networka)\n",
    "#output the results\n",
    "#expect \"A\", \"B\", 'b', 'c' to be infected\n",
    "networka.nodes(True)"
   ]
  },
  {
   "cell_type": "code",
   "execution_count": 20,
   "metadata": {
    "collapsed": false
   },
   "outputs": [
    {
     "data": {
      "text/plain": [
       "[('A', {'infected': False}),\n",
       " ('a', {'infected': True}),\n",
       " ('C', {'infected': False}),\n",
       " ('B', {'infected': False}),\n",
       " ('e', {'infected': False}),\n",
       " ('d', {'infected': False}),\n",
       " ('c', {'infected': False}),\n",
       " ('b', {'infected': False})]"
      ]
     },
     "execution_count": 20,
     "metadata": {},
     "output_type": "execute_result"
    }
   ],
   "source": [
    "#Testing Part 2\n",
    "network=nx.DiGraph()\n",
    "network.add_nodes_from([\"A\",\"B\",\"C\"], infected=False)\n",
    "network.add_nodes_from(['a','b','c','d','e'], infected=False)\n",
    "network.add_edges_from([(\"A\",'b'), ('A','c'), (\"B\",'b'),(\"B\",'c'),(\"C\",'d'),(\"C\",'e')])\n",
    "#create a deep copy of an undirected graph for use in the function total_infection()\n",
    "networka = network.to_undirected()\n",
    "total_infection(\"a\",networka)\n",
    "#expect 'a' to be infected\n",
    "networka.nodes(True)"
   ]
  },
  {
   "cell_type": "code",
   "execution_count": 21,
   "metadata": {
    "collapsed": false
   },
   "outputs": [
    {
     "data": {
      "text/plain": [
       "[('A', {'infected': False}),\n",
       " ('a', {'infected': False}),\n",
       " ('C', {'infected': True}),\n",
       " ('B', {'infected': False}),\n",
       " ('e', {'infected': True}),\n",
       " ('d', {'infected': True}),\n",
       " ('c', {'infected': False}),\n",
       " ('b', {'infected': False})]"
      ]
     },
     "execution_count": 21,
     "metadata": {},
     "output_type": "execute_result"
    }
   ],
   "source": [
    "#Testing Part 3\n",
    "network=nx.DiGraph()\n",
    "network.add_nodes_from([\"A\",\"B\",\"C\"], infected=False)\n",
    "network.add_nodes_from(['a','b','c','d','e'], infected=False)\n",
    "network.add_edges_from([(\"A\",'b'), ('A','c'), (\"B\",'b'),(\"B\",'c'),(\"C\",'d'),(\"C\",'e')])\n",
    "#create a deep copy of an undirected graph for use in the function total_infection()\n",
    "networka = network.to_undirected()\n",
    "total_infection(\"C\",networka)\n",
    "#expect \"C\", 'd', 'e' to be infected\n",
    "networka.nodes(True)"
   ]
  },
  {
   "cell_type": "code",
   "execution_count": 22,
   "metadata": {
    "collapsed": false
   },
   "outputs": [
    {
     "ename": "ValueError",
     "evalue": "User is not in the network.",
     "output_type": "error",
     "traceback": [
      "\u001b[0;31m---------------------------------------------------------------------------\u001b[0m",
      "\u001b[0;31mValueError\u001b[0m                                Traceback (most recent call last)",
      "\u001b[0;32m<ipython-input-22-624f09999455>\u001b[0m in \u001b[0;36m<module>\u001b[0;34m()\u001b[0m\n\u001b[1;32m      6\u001b[0m \u001b[0;31m#create a deep copy of an undirected graph for use in the function total_infection()\u001b[0m\u001b[0;34m\u001b[0m\u001b[0;34m\u001b[0m\u001b[0m\n\u001b[1;32m      7\u001b[0m \u001b[0mnetworka\u001b[0m \u001b[0;34m=\u001b[0m \u001b[0mnetwork\u001b[0m\u001b[0;34m.\u001b[0m\u001b[0mto_undirected\u001b[0m\u001b[0;34m(\u001b[0m\u001b[0;34m)\u001b[0m\u001b[0;34m\u001b[0m\u001b[0m\n\u001b[0;32m----> 8\u001b[0;31m \u001b[0mtotal_infection\u001b[0m\u001b[0;34m(\u001b[0m\u001b[0;34m\"Z\"\u001b[0m\u001b[0;34m,\u001b[0m\u001b[0mnetworka\u001b[0m\u001b[0;34m)\u001b[0m\u001b[0;34m\u001b[0m\u001b[0m\n\u001b[0m\u001b[1;32m      9\u001b[0m \u001b[0;31m#expect an error saying user not in network. No nodes are infected.\u001b[0m\u001b[0;34m\u001b[0m\u001b[0;34m\u001b[0m\u001b[0m\n",
      "\u001b[0;32m/Users/lilyzhang/Documents/Summer_2016/Khan_infection/Khan_Academy_Infection.pyc\u001b[0m in \u001b[0;36mtotal_infection\u001b[0;34m(user, network)\u001b[0m\n\u001b[1;32m     29\u001b[0m     \u001b[0;32mtry\u001b[0m\u001b[0;34m:\u001b[0m\u001b[0;34m\u001b[0m\u001b[0m\n\u001b[1;32m     30\u001b[0m         \u001b[0;31m#infect the user\u001b[0m\u001b[0;34m\u001b[0m\u001b[0;34m\u001b[0m\u001b[0m\n\u001b[0;32m---> 31\u001b[0;31m         \u001b[0mnetwork\u001b[0m\u001b[0;34m.\u001b[0m\u001b[0mnode\u001b[0m\u001b[0;34m[\u001b[0m\u001b[0muser\u001b[0m\u001b[0;34m]\u001b[0m\u001b[0;34m[\u001b[0m\u001b[0;34m'infected'\u001b[0m\u001b[0;34m]\u001b[0m \u001b[0;34m=\u001b[0m \u001b[0mTrue\u001b[0m\u001b[0;34m\u001b[0m\u001b[0m\n\u001b[0m\u001b[1;32m     32\u001b[0m     \u001b[0;32mexcept\u001b[0m\u001b[0;34m:\u001b[0m\u001b[0;34m\u001b[0m\u001b[0m\n\u001b[1;32m     33\u001b[0m         \u001b[0;32mraise\u001b[0m \u001b[0mValueError\u001b[0m\u001b[0;34m(\u001b[0m\u001b[0;34m\"User is not in the network.\"\u001b[0m\u001b[0;34m)\u001b[0m\u001b[0;34m\u001b[0m\u001b[0m\n",
      "\u001b[0;31mValueError\u001b[0m: User is not in the network."
     ]
    }
   ],
   "source": [
    "#Testing Part 4\n",
    "network=nx.DiGraph()\n",
    "network.add_nodes_from([\"A\",\"B\",\"C\"], infected=False)\n",
    "network.add_nodes_from(['a','b','c','d','e'], infected=False)\n",
    "network.add_edges_from([(\"A\",'b'), ('A','c'), (\"B\",'b'),(\"B\",'c'),(\"C\",'d'),(\"C\",'e')])\n",
    "#create a deep copy of an undirected graph for use in the function total_infection()\n",
    "networka = network.to_undirected()\n",
    "total_infection(\"Z\",networka)\n",
    "#expect an error saying user not in network. No nodes are infected."
   ]
  },
  {
   "cell_type": "code",
   "execution_count": 23,
   "metadata": {
    "collapsed": false
   },
   "outputs": [
    {
     "data": {
      "text/plain": [
       "[('A', {'infected': False}),\n",
       " ('a', {'infected': False}),\n",
       " ('C', {'infected': False}),\n",
       " ('B', {'infected': False}),\n",
       " ('e', {'infected': False}),\n",
       " ('d', {'infected': False}),\n",
       " ('c', {'infected': False}),\n",
       " ('b', {'infected': False})]"
      ]
     },
     "execution_count": 23,
     "metadata": {},
     "output_type": "execute_result"
    }
   ],
   "source": [
    "#Testing Part 4 (cont)\n",
    "networka.nodes(True)"
   ]
  },
  {
   "cell_type": "markdown",
   "metadata": {},
   "source": [
    "##Testing, limited_infection()\n",
    "We use a similarly structured graph for our testing this time as well."
   ]
  },
  {
   "cell_type": "code",
   "execution_count": 2,
   "metadata": {
    "collapsed": false
   },
   "outputs": [
    {
     "data": {
      "text/plain": [
       "[('A', {'infected': True}),\n",
       " ('a', {'infected': False}),\n",
       " ('C', {'infected': True}),\n",
       " ('B', {'infected': True}),\n",
       " ('e', {'infected': True}),\n",
       " ('d', {'infected': True}),\n",
       " ('c', {'infected': True}),\n",
       " ('b', {'infected': True})]"
      ]
     },
     "execution_count": 2,
     "metadata": {},
     "output_type": "execute_result"
    }
   ],
   "source": [
    "#Test Part 1\n",
    "network1=nx.DiGraph()\n",
    "network1.add_nodes_from([\"A\",\"B\",\"C\"], infected=False)\n",
    "network1.add_nodes_from(['a','b','c','d','e'], infected=False)\n",
    "network1.add_edges_from([(\"A\",'b'), ('A','c'), (\"B\",'b'),(\"B\",'c'),(\"C\",'d'),(\"C\",'e')])\n",
    "network1a = network1.to_undirected()\n",
    "limited_infection(7,network1a)\n",
    "#expect all nodes except 'a' to be infected\n",
    "network1a.nodes(True)"
   ]
  },
  {
   "cell_type": "code",
   "execution_count": 3,
   "metadata": {
    "collapsed": false
   },
   "outputs": [
    {
     "data": {
      "text/plain": [
       "[('A', {'infected': False}),\n",
       " ('a', {'infected': True}),\n",
       " ('C', {'infected': False}),\n",
       " ('B', {'infected': False}),\n",
       " ('e', {'infected': False}),\n",
       " ('d', {'infected': False}),\n",
       " ('c', {'infected': False}),\n",
       " ('b', {'infected': False})]"
      ]
     },
     "execution_count": 3,
     "metadata": {},
     "output_type": "execute_result"
    }
   ],
   "source": [
    "#Test Part 2\n",
    "network1=nx.DiGraph()\n",
    "network1.add_nodes_from([\"A\",\"B\",\"C\"], infected=False)\n",
    "network1.add_nodes_from(['a','b','c','d','e'], infected=False)\n",
    "network1.add_edges_from([(\"A\",'b'), ('A','c'), (\"B\",'b'),(\"B\",'c'),(\"C\",'d'),(\"C\",'e')])\n",
    "network1a = network1.to_undirected()\n",
    "limited_infection(1,network1a)\n",
    "#expect 'a' to be infected\n",
    "network1a.nodes(True)"
   ]
  },
  {
   "cell_type": "code",
   "execution_count": 4,
   "metadata": {
    "collapsed": false
   },
   "outputs": [
    {
     "data": {
      "text/plain": [
       "[('A', {'infected': False}),\n",
       " ('a', {'infected': False}),\n",
       " ('C', {'infected': False}),\n",
       " ('B', {'infected': False}),\n",
       " ('e', {'infected': False}),\n",
       " ('d', {'infected': False}),\n",
       " ('c', {'infected': False}),\n",
       " ('b', {'infected': False})]"
      ]
     },
     "execution_count": 4,
     "metadata": {},
     "output_type": "execute_result"
    }
   ],
   "source": [
    "#Test Part 3\n",
    "network1=nx.DiGraph()\n",
    "network1.add_nodes_from([\"A\",\"B\",\"C\"], infected=False)\n",
    "network1.add_nodes_from(['a','b','c','d','e'], infected=False)\n",
    "network1.add_edges_from([(\"A\",'b'), ('A','c'), (\"B\",'b'),(\"B\",'c'),(\"C\",'d'),(\"C\",'e')])\n",
    "network1a = network1.to_undirected()\n",
    "limited_infection(6,network1a)\n",
    "#expect a no nodes to be infected\n",
    "network1a.nodes(True)"
   ]
  },
  {
   "cell_type": "code",
   "execution_count": 5,
   "metadata": {
    "collapsed": false
   },
   "outputs": [
    {
     "data": {
      "text/plain": [
       "[('A', {'infected': True}),\n",
       " ('a', {'infected': False}),\n",
       " ('C', {'infected': False}),\n",
       " ('B', {'infected': True}),\n",
       " ('e', {'infected': False}),\n",
       " ('d', {'infected': False}),\n",
       " ('c', {'infected': True}),\n",
       " ('b', {'infected': True})]"
      ]
     },
     "execution_count": 5,
     "metadata": {},
     "output_type": "execute_result"
    }
   ],
   "source": [
    "#Test Part 4\n",
    "network1=nx.DiGraph()\n",
    "network1.add_nodes_from([\"A\",\"B\",\"C\"], infected=False)\n",
    "network1.add_nodes_from(['a','b','c','d','e'], infected=False)\n",
    "network1.add_edges_from([(\"A\",'b'), ('A','c'), (\"B\",'b'),(\"B\",'c'),(\"C\",'d'),(\"C\",'e')])\n",
    "network1a = network1.to_undirected()\n",
    "limited_infection(4,network1a)\n",
    "#expect either \"A\",\"B\",'b','c' to be infected and \"C\",'d','e','a' to be unaffected\n",
    "#or vice versa\n",
    "network1a.nodes(True)"
   ]
  },
  {
   "cell_type": "code",
   "execution_count": 6,
   "metadata": {
    "collapsed": false
   },
   "outputs": [
    {
     "ename": "ValueError",
     "evalue": "The infection size exceeds the network length.",
     "output_type": "error",
     "traceback": [
      "\u001b[0;31m---------------------------------------------------------------------------\u001b[0m",
      "\u001b[0;31mValueError\u001b[0m                                Traceback (most recent call last)",
      "\u001b[0;32m<ipython-input-6-4c68e50426ec>\u001b[0m in \u001b[0;36m<module>\u001b[0;34m()\u001b[0m\n\u001b[1;32m      5\u001b[0m \u001b[0mnetwork1\u001b[0m\u001b[0;34m.\u001b[0m\u001b[0madd_edges_from\u001b[0m\u001b[0;34m(\u001b[0m\u001b[0;34m[\u001b[0m\u001b[0;34m(\u001b[0m\u001b[0;34m\"A\"\u001b[0m\u001b[0;34m,\u001b[0m\u001b[0;34m'b'\u001b[0m\u001b[0;34m)\u001b[0m\u001b[0;34m,\u001b[0m \u001b[0;34m(\u001b[0m\u001b[0;34m'A'\u001b[0m\u001b[0;34m,\u001b[0m\u001b[0;34m'c'\u001b[0m\u001b[0;34m)\u001b[0m\u001b[0;34m,\u001b[0m \u001b[0;34m(\u001b[0m\u001b[0;34m\"B\"\u001b[0m\u001b[0;34m,\u001b[0m\u001b[0;34m'b'\u001b[0m\u001b[0;34m)\u001b[0m\u001b[0;34m,\u001b[0m\u001b[0;34m(\u001b[0m\u001b[0;34m\"B\"\u001b[0m\u001b[0;34m,\u001b[0m\u001b[0;34m'c'\u001b[0m\u001b[0;34m)\u001b[0m\u001b[0;34m,\u001b[0m\u001b[0;34m(\u001b[0m\u001b[0;34m\"C\"\u001b[0m\u001b[0;34m,\u001b[0m\u001b[0;34m'd'\u001b[0m\u001b[0;34m)\u001b[0m\u001b[0;34m,\u001b[0m\u001b[0;34m(\u001b[0m\u001b[0;34m\"C\"\u001b[0m\u001b[0;34m,\u001b[0m\u001b[0;34m'e'\u001b[0m\u001b[0;34m)\u001b[0m\u001b[0;34m]\u001b[0m\u001b[0;34m)\u001b[0m\u001b[0;34m\u001b[0m\u001b[0m\n\u001b[1;32m      6\u001b[0m \u001b[0mnetwork1a\u001b[0m \u001b[0;34m=\u001b[0m \u001b[0mnetwork1\u001b[0m\u001b[0;34m.\u001b[0m\u001b[0mto_undirected\u001b[0m\u001b[0;34m(\u001b[0m\u001b[0;34m)\u001b[0m\u001b[0;34m\u001b[0m\u001b[0m\n\u001b[0;32m----> 7\u001b[0;31m \u001b[0mlimited_infection\u001b[0m\u001b[0;34m(\u001b[0m\u001b[0;36m10\u001b[0m\u001b[0;34m,\u001b[0m\u001b[0mnetwork1a\u001b[0m\u001b[0;34m)\u001b[0m\u001b[0;34m\u001b[0m\u001b[0m\n\u001b[0m\u001b[1;32m      8\u001b[0m \u001b[0;31m#expect an error to say the desired size of infection is larger than the network.\u001b[0m\u001b[0;34m\u001b[0m\u001b[0;34m\u001b[0m\u001b[0m\n\u001b[1;32m      9\u001b[0m \u001b[0;31m#No nodes are infected\u001b[0m\u001b[0;34m\u001b[0m\u001b[0;34m\u001b[0m\u001b[0m\n",
      "\u001b[0;32m/Users/lilyzhang/Documents/Summer_2016/Khan_infection/Khan_Academy_Infection.py\u001b[0m in \u001b[0;36mlimited_infection\u001b[0;34m(infect_num, network)\u001b[0m\n\u001b[1;32m    107\u001b[0m     \u001b[0mnetwork_length\u001b[0m \u001b[0;34m=\u001b[0m \u001b[0mlen\u001b[0m\u001b[0;34m(\u001b[0m\u001b[0mall_nodes\u001b[0m\u001b[0;34m)\u001b[0m\u001b[0;34m\u001b[0m\u001b[0m\n\u001b[1;32m    108\u001b[0m     \u001b[0;32mif\u001b[0m \u001b[0minfect_num\u001b[0m \u001b[0;34m>\u001b[0m \u001b[0mnetwork_length\u001b[0m\u001b[0;34m:\u001b[0m\u001b[0;34m\u001b[0m\u001b[0m\n\u001b[0;32m--> 109\u001b[0;31m         \u001b[0;32mraise\u001b[0m \u001b[0mValueError\u001b[0m\u001b[0;34m(\u001b[0m\u001b[0;34m\"The infection size exceeds the network length.\"\u001b[0m\u001b[0;34m)\u001b[0m\u001b[0;34m\u001b[0m\u001b[0m\n\u001b[0m\u001b[1;32m    110\u001b[0m     \u001b[0;31m#start with a random user\u001b[0m\u001b[0;34m\u001b[0m\u001b[0;34m\u001b[0m\u001b[0m\n\u001b[1;32m    111\u001b[0m     \u001b[0mrandom_user\u001b[0m \u001b[0;34m=\u001b[0m \u001b[0mnp\u001b[0m\u001b[0;34m.\u001b[0m\u001b[0mrandom\u001b[0m\u001b[0;34m.\u001b[0m\u001b[0mchoice\u001b[0m\u001b[0;34m(\u001b[0m\u001b[0mall_nodes\u001b[0m\u001b[0;34m)\u001b[0m\u001b[0;34m\u001b[0m\u001b[0m\n",
      "\u001b[0;31mValueError\u001b[0m: The infection size exceeds the network length."
     ]
    }
   ],
   "source": [
    "#Test Part 5\n",
    "network1=nx.DiGraph()\n",
    "network1.add_nodes_from([\"A\",\"B\",\"C\"], infected=False)\n",
    "network1.add_nodes_from(['a','b','c','d','e'], infected=False)\n",
    "network1.add_edges_from([(\"A\",'b'), ('A','c'), (\"B\",'b'),(\"B\",'c'),(\"C\",'d'),(\"C\",'e')])\n",
    "network1a = network1.to_undirected()\n",
    "limited_infection(10,network1a)\n",
    "#expect an error to say the desired size of infection is larger than the network.\n",
    "#No nodes are infected\n",
    "\n"
   ]
  },
  {
   "cell_type": "code",
   "execution_count": 7,
   "metadata": {
    "collapsed": false
   },
   "outputs": [
    {
     "data": {
      "text/plain": [
       "[('A', {'infected': False}),\n",
       " ('a', {'infected': False}),\n",
       " ('C', {'infected': False}),\n",
       " ('B', {'infected': False}),\n",
       " ('e', {'infected': False}),\n",
       " ('d', {'infected': False}),\n",
       " ('c', {'infected': False}),\n",
       " ('b', {'infected': False})]"
      ]
     },
     "execution_count": 7,
     "metadata": {},
     "output_type": "execute_result"
    }
   ],
   "source": [
    "#Test Part 5 (cont)\n",
    "network1a.nodes(True)"
   ]
  }
 ],
 "metadata": {
  "kernelspec": {
   "display_name": "Python 2",
   "language": "python",
   "name": "python2"
  },
  "language_info": {
   "codemirror_mode": {
    "name": "ipython",
    "version": 2
   },
   "file_extension": ".py",
   "mimetype": "text/x-python",
   "name": "python",
   "nbconvert_exporter": "python",
   "pygments_lexer": "ipython2",
   "version": "2.7.10"
  }
 },
 "nbformat": 4,
 "nbformat_minor": 0
}
